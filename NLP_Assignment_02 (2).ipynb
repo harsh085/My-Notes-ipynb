{
  "nbformat": 4,
  "nbformat_minor": 0,
  "metadata": {
    "colab": {
      "provenance": []
    },
    "kernelspec": {
      "name": "python3",
      "display_name": "Python 3"
    },
    "language_info": {
      "name": "python"
    }
  },
  "cells": [
    {
      "cell_type": "code",
      "execution_count": 145,
      "metadata": {
        "id": "oiMdcgeDsCrp"
      },
      "outputs": [],
      "source": [
        "import pandas as pd\n",
        "import numpy as np\n",
        "import matplotlib.pyplot as plt\n",
        "from google.colab import files\n",
        "import copy\n",
        "import math"
      ]
    },
    {
      "cell_type": "code",
      "source": [
        "file = files.upload()"
      ],
      "metadata": {
        "colab": {
          "base_uri": "https://localhost:8080/",
          "height": 38
        },
        "id": "Pj5hDl-VuSi6",
        "outputId": "5ef8d2cc-dbea-4036-a523-1bfb6724900f"
      },
      "execution_count": 146,
      "outputs": [
        {
          "output_type": "display_data",
          "data": {
            "text/plain": [
              "<IPython.core.display.HTML object>"
            ],
            "text/html": [
              "\n",
              "     <input type=\"file\" id=\"files-4901ab77-89c6-4860-9d31-0849aad671ab\" name=\"files[]\" multiple disabled\n",
              "        style=\"border:none\" />\n",
              "     <output id=\"result-4901ab77-89c6-4860-9d31-0849aad671ab\">\n",
              "      Upload widget is only available when the cell has been executed in the\n",
              "      current browser session. Please rerun this cell to enable.\n",
              "      </output>\n",
              "      <script>// Copyright 2017 Google LLC\n",
              "//\n",
              "// Licensed under the Apache License, Version 2.0 (the \"License\");\n",
              "// you may not use this file except in compliance with the License.\n",
              "// You may obtain a copy of the License at\n",
              "//\n",
              "//      http://www.apache.org/licenses/LICENSE-2.0\n",
              "//\n",
              "// Unless required by applicable law or agreed to in writing, software\n",
              "// distributed under the License is distributed on an \"AS IS\" BASIS,\n",
              "// WITHOUT WARRANTIES OR CONDITIONS OF ANY KIND, either express or implied.\n",
              "// See the License for the specific language governing permissions and\n",
              "// limitations under the License.\n",
              "\n",
              "/**\n",
              " * @fileoverview Helpers for google.colab Python module.\n",
              " */\n",
              "(function(scope) {\n",
              "function span(text, styleAttributes = {}) {\n",
              "  const element = document.createElement('span');\n",
              "  element.textContent = text;\n",
              "  for (const key of Object.keys(styleAttributes)) {\n",
              "    element.style[key] = styleAttributes[key];\n",
              "  }\n",
              "  return element;\n",
              "}\n",
              "\n",
              "// Max number of bytes which will be uploaded at a time.\n",
              "const MAX_PAYLOAD_SIZE = 100 * 1024;\n",
              "\n",
              "function _uploadFiles(inputId, outputId) {\n",
              "  const steps = uploadFilesStep(inputId, outputId);\n",
              "  const outputElement = document.getElementById(outputId);\n",
              "  // Cache steps on the outputElement to make it available for the next call\n",
              "  // to uploadFilesContinue from Python.\n",
              "  outputElement.steps = steps;\n",
              "\n",
              "  return _uploadFilesContinue(outputId);\n",
              "}\n",
              "\n",
              "// This is roughly an async generator (not supported in the browser yet),\n",
              "// where there are multiple asynchronous steps and the Python side is going\n",
              "// to poll for completion of each step.\n",
              "// This uses a Promise to block the python side on completion of each step,\n",
              "// then passes the result of the previous step as the input to the next step.\n",
              "function _uploadFilesContinue(outputId) {\n",
              "  const outputElement = document.getElementById(outputId);\n",
              "  const steps = outputElement.steps;\n",
              "\n",
              "  const next = steps.next(outputElement.lastPromiseValue);\n",
              "  return Promise.resolve(next.value.promise).then((value) => {\n",
              "    // Cache the last promise value to make it available to the next\n",
              "    // step of the generator.\n",
              "    outputElement.lastPromiseValue = value;\n",
              "    return next.value.response;\n",
              "  });\n",
              "}\n",
              "\n",
              "/**\n",
              " * Generator function which is called between each async step of the upload\n",
              " * process.\n",
              " * @param {string} inputId Element ID of the input file picker element.\n",
              " * @param {string} outputId Element ID of the output display.\n",
              " * @return {!Iterable<!Object>} Iterable of next steps.\n",
              " */\n",
              "function* uploadFilesStep(inputId, outputId) {\n",
              "  const inputElement = document.getElementById(inputId);\n",
              "  inputElement.disabled = false;\n",
              "\n",
              "  const outputElement = document.getElementById(outputId);\n",
              "  outputElement.innerHTML = '';\n",
              "\n",
              "  const pickedPromise = new Promise((resolve) => {\n",
              "    inputElement.addEventListener('change', (e) => {\n",
              "      resolve(e.target.files);\n",
              "    });\n",
              "  });\n",
              "\n",
              "  const cancel = document.createElement('button');\n",
              "  inputElement.parentElement.appendChild(cancel);\n",
              "  cancel.textContent = 'Cancel upload';\n",
              "  const cancelPromise = new Promise((resolve) => {\n",
              "    cancel.onclick = () => {\n",
              "      resolve(null);\n",
              "    };\n",
              "  });\n",
              "\n",
              "  // Wait for the user to pick the files.\n",
              "  const files = yield {\n",
              "    promise: Promise.race([pickedPromise, cancelPromise]),\n",
              "    response: {\n",
              "      action: 'starting',\n",
              "    }\n",
              "  };\n",
              "\n",
              "  cancel.remove();\n",
              "\n",
              "  // Disable the input element since further picks are not allowed.\n",
              "  inputElement.disabled = true;\n",
              "\n",
              "  if (!files) {\n",
              "    return {\n",
              "      response: {\n",
              "        action: 'complete',\n",
              "      }\n",
              "    };\n",
              "  }\n",
              "\n",
              "  for (const file of files) {\n",
              "    const li = document.createElement('li');\n",
              "    li.append(span(file.name, {fontWeight: 'bold'}));\n",
              "    li.append(span(\n",
              "        `(${file.type || 'n/a'}) - ${file.size} bytes, ` +\n",
              "        `last modified: ${\n",
              "            file.lastModifiedDate ? file.lastModifiedDate.toLocaleDateString() :\n",
              "                                    'n/a'} - `));\n",
              "    const percent = span('0% done');\n",
              "    li.appendChild(percent);\n",
              "\n",
              "    outputElement.appendChild(li);\n",
              "\n",
              "    const fileDataPromise = new Promise((resolve) => {\n",
              "      const reader = new FileReader();\n",
              "      reader.onload = (e) => {\n",
              "        resolve(e.target.result);\n",
              "      };\n",
              "      reader.readAsArrayBuffer(file);\n",
              "    });\n",
              "    // Wait for the data to be ready.\n",
              "    let fileData = yield {\n",
              "      promise: fileDataPromise,\n",
              "      response: {\n",
              "        action: 'continue',\n",
              "      }\n",
              "    };\n",
              "\n",
              "    // Use a chunked sending to avoid message size limits. See b/62115660.\n",
              "    let position = 0;\n",
              "    do {\n",
              "      const length = Math.min(fileData.byteLength - position, MAX_PAYLOAD_SIZE);\n",
              "      const chunk = new Uint8Array(fileData, position, length);\n",
              "      position += length;\n",
              "\n",
              "      const base64 = btoa(String.fromCharCode.apply(null, chunk));\n",
              "      yield {\n",
              "        response: {\n",
              "          action: 'append',\n",
              "          file: file.name,\n",
              "          data: base64,\n",
              "        },\n",
              "      };\n",
              "\n",
              "      let percentDone = fileData.byteLength === 0 ?\n",
              "          100 :\n",
              "          Math.round((position / fileData.byteLength) * 100);\n",
              "      percent.textContent = `${percentDone}% done`;\n",
              "\n",
              "    } while (position < fileData.byteLength);\n",
              "  }\n",
              "\n",
              "  // All done.\n",
              "  yield {\n",
              "    response: {\n",
              "      action: 'complete',\n",
              "    }\n",
              "  };\n",
              "}\n",
              "\n",
              "scope.google = scope.google || {};\n",
              "scope.google.colab = scope.google.colab || {};\n",
              "scope.google.colab._files = {\n",
              "  _uploadFiles,\n",
              "  _uploadFilesContinue,\n",
              "};\n",
              "})(self);\n",
              "</script> "
            ]
          },
          "metadata": {}
        }
      ]
    },
    {
      "cell_type": "code",
      "source": [
        "df = pd.read_csv(\"/content/NER-Dataset-Train.csv\")"
      ],
      "metadata": {
        "id": "vV3qiaIBezEW"
      },
      "execution_count": 147,
      "outputs": []
    },
    {
      "cell_type": "code",
      "source": [
        "df.head()"
      ],
      "metadata": {
        "colab": {
          "base_uri": "https://localhost:8080/",
          "height": 206
        },
        "id": "cWG8oJAmfo1V",
        "outputId": "84e4eecc-33b4-4f38-e50f-4c07e4340f6a"
      },
      "execution_count": 148,
      "outputs": [
        {
          "output_type": "execute_result",
          "data": {
            "text/plain": [
              "                             Sentences with BIO tags\n",
              "0  @LewisDixon O Trust O me O ! O im O gonna O be...\n",
              "1  @joshHnumber1fan O its O okay O then O .. O ma...\n",
              "2  Asprin O , O check O , O cup O of O tea O , O ...\n",
              "3  @angelportugues O LMAO O ! O When O is O tht O...\n",
              "4  The O Basic O Step O Before O You O Even O Sta..."
            ],
            "text/html": [
              "\n",
              "  <div id=\"df-9f415b6d-d3a0-487d-b7c6-66883142e7b4\">\n",
              "    <div class=\"colab-df-container\">\n",
              "      <div>\n",
              "<style scoped>\n",
              "    .dataframe tbody tr th:only-of-type {\n",
              "        vertical-align: middle;\n",
              "    }\n",
              "\n",
              "    .dataframe tbody tr th {\n",
              "        vertical-align: top;\n",
              "    }\n",
              "\n",
              "    .dataframe thead th {\n",
              "        text-align: right;\n",
              "    }\n",
              "</style>\n",
              "<table border=\"1\" class=\"dataframe\">\n",
              "  <thead>\n",
              "    <tr style=\"text-align: right;\">\n",
              "      <th></th>\n",
              "      <th>Sentences with BIO tags</th>\n",
              "    </tr>\n",
              "  </thead>\n",
              "  <tbody>\n",
              "    <tr>\n",
              "      <th>0</th>\n",
              "      <td>@LewisDixon O Trust O me O ! O im O gonna O be...</td>\n",
              "    </tr>\n",
              "    <tr>\n",
              "      <th>1</th>\n",
              "      <td>@joshHnumber1fan O its O okay O then O .. O ma...</td>\n",
              "    </tr>\n",
              "    <tr>\n",
              "      <th>2</th>\n",
              "      <td>Asprin O , O check O , O cup O of O tea O , O ...</td>\n",
              "    </tr>\n",
              "    <tr>\n",
              "      <th>3</th>\n",
              "      <td>@angelportugues O LMAO O ! O When O is O tht O...</td>\n",
              "    </tr>\n",
              "    <tr>\n",
              "      <th>4</th>\n",
              "      <td>The O Basic O Step O Before O You O Even O Sta...</td>\n",
              "    </tr>\n",
              "  </tbody>\n",
              "</table>\n",
              "</div>\n",
              "      <button class=\"colab-df-convert\" onclick=\"convertToInteractive('df-9f415b6d-d3a0-487d-b7c6-66883142e7b4')\"\n",
              "              title=\"Convert this dataframe to an interactive table.\"\n",
              "              style=\"display:none;\">\n",
              "        \n",
              "  <svg xmlns=\"http://www.w3.org/2000/svg\" height=\"24px\"viewBox=\"0 0 24 24\"\n",
              "       width=\"24px\">\n",
              "    <path d=\"M0 0h24v24H0V0z\" fill=\"none\"/>\n",
              "    <path d=\"M18.56 5.44l.94 2.06.94-2.06 2.06-.94-2.06-.94-.94-2.06-.94 2.06-2.06.94zm-11 1L8.5 8.5l.94-2.06 2.06-.94-2.06-.94L8.5 2.5l-.94 2.06-2.06.94zm10 10l.94 2.06.94-2.06 2.06-.94-2.06-.94-.94-2.06-.94 2.06-2.06.94z\"/><path d=\"M17.41 7.96l-1.37-1.37c-.4-.4-.92-.59-1.43-.59-.52 0-1.04.2-1.43.59L10.3 9.45l-7.72 7.72c-.78.78-.78 2.05 0 2.83L4 21.41c.39.39.9.59 1.41.59.51 0 1.02-.2 1.41-.59l7.78-7.78 2.81-2.81c.8-.78.8-2.07 0-2.86zM5.41 20L4 18.59l7.72-7.72 1.47 1.35L5.41 20z\"/>\n",
              "  </svg>\n",
              "      </button>\n",
              "      \n",
              "  <style>\n",
              "    .colab-df-container {\n",
              "      display:flex;\n",
              "      flex-wrap:wrap;\n",
              "      gap: 12px;\n",
              "    }\n",
              "\n",
              "    .colab-df-convert {\n",
              "      background-color: #E8F0FE;\n",
              "      border: none;\n",
              "      border-radius: 50%;\n",
              "      cursor: pointer;\n",
              "      display: none;\n",
              "      fill: #1967D2;\n",
              "      height: 32px;\n",
              "      padding: 0 0 0 0;\n",
              "      width: 32px;\n",
              "    }\n",
              "\n",
              "    .colab-df-convert:hover {\n",
              "      background-color: #E2EBFA;\n",
              "      box-shadow: 0px 1px 2px rgba(60, 64, 67, 0.3), 0px 1px 3px 1px rgba(60, 64, 67, 0.15);\n",
              "      fill: #174EA6;\n",
              "    }\n",
              "\n",
              "    [theme=dark] .colab-df-convert {\n",
              "      background-color: #3B4455;\n",
              "      fill: #D2E3FC;\n",
              "    }\n",
              "\n",
              "    [theme=dark] .colab-df-convert:hover {\n",
              "      background-color: #434B5C;\n",
              "      box-shadow: 0px 1px 3px 1px rgba(0, 0, 0, 0.15);\n",
              "      filter: drop-shadow(0px 1px 2px rgba(0, 0, 0, 0.3));\n",
              "      fill: #FFFFFF;\n",
              "    }\n",
              "  </style>\n",
              "\n",
              "      <script>\n",
              "        const buttonEl =\n",
              "          document.querySelector('#df-9f415b6d-d3a0-487d-b7c6-66883142e7b4 button.colab-df-convert');\n",
              "        buttonEl.style.display =\n",
              "          google.colab.kernel.accessAllowed ? 'block' : 'none';\n",
              "\n",
              "        async function convertToInteractive(key) {\n",
              "          const element = document.querySelector('#df-9f415b6d-d3a0-487d-b7c6-66883142e7b4');\n",
              "          const dataTable =\n",
              "            await google.colab.kernel.invokeFunction('convertToInteractive',\n",
              "                                                     [key], {});\n",
              "          if (!dataTable) return;\n",
              "\n",
              "          const docLinkHtml = 'Like what you see? Visit the ' +\n",
              "            '<a target=\"_blank\" href=https://colab.research.google.com/notebooks/data_table.ipynb>data table notebook</a>'\n",
              "            + ' to learn more about interactive tables.';\n",
              "          element.innerHTML = '';\n",
              "          dataTable['output_type'] = 'display_data';\n",
              "          await google.colab.output.renderOutput(dataTable, element);\n",
              "          const docLink = document.createElement('div');\n",
              "          docLink.innerHTML = docLinkHtml;\n",
              "          element.appendChild(docLink);\n",
              "        }\n",
              "      </script>\n",
              "    </div>\n",
              "  </div>\n",
              "  "
            ]
          },
          "metadata": {},
          "execution_count": 148
        }
      ]
    },
    {
      "cell_type": "markdown",
      "source": [
        "#Creating transition matrix"
      ],
      "metadata": {
        "id": "BCDUQII6o250"
      }
    },
    {
      "cell_type": "code",
      "source": [
        "def create_transition_matrix(X_train):\n",
        "    #declaring transition matrix\n",
        "    transition_count_t1_t2 = [[float(0) for row in range(3)] for col in range(3)]\n",
        "    BIO_tags = {'B':0,'I':1,'O':2}\n",
        "    count_of_each_BIO_tags = [0]*3\n",
        "    BIO_tags_as_initial_count = [0]*3\n",
        "    count  = 0\n",
        "    for i in X_train:\n",
        "        line = list(i.split(\" \"))\n",
        "        BIO_tags_as_initial_count[BIO_tags[line[1]]]+=1\n",
        "        count_of_each_BIO_tags[BIO_tags[line[1]]]+=1\n",
        "        length  = int(len(line))\n",
        "        for j in range(3,length,2):\n",
        "            count_of_each_BIO_tags[BIO_tags[line[j]]]+=1\n",
        "            transition_count_t1_t2[BIO_tags[line[j-2]]][BIO_tags[line[j]]] += 1\n",
        "            \n",
        "    return transition_count_t1_t2,BIO_tags_as_initial_count,count_of_each_BIO_tags"
      ],
      "metadata": {
        "id": "llAXc2_SGMcg"
      },
      "execution_count": 150,
      "outputs": []
    },
    {
      "cell_type": "markdown",
      "source": [
        "#Calculating start probability"
      ],
      "metadata": {
        "id": "fqI39cKR8JEQ"
      }
    },
    {
      "cell_type": "code",
      "source": [
        "def calculate_start_probability(BIO_tags_as_initial_count,count_of_each_BIO_tags):\n",
        "    start_probability = [0]*3\n",
        "    for i in range(3):\n",
        "        start_probability[i] = (BIO_tags_as_initial_count[i])/count_of_each_BIO_tags[i]\n",
        "    return start_probability"
      ],
      "metadata": {
        "id": "m3r15pK08IPj"
      },
      "execution_count": 151,
      "outputs": []
    },
    {
      "cell_type": "markdown",
      "source": [
        "#Calculate transition probability for unigram model"
      ],
      "metadata": {
        "id": "-a9fYwJYYNnp"
      }
    },
    {
      "cell_type": "code",
      "source": [
        "def calculate_transition_probability_unigram(X_train):\n",
        "    transition_count_t1_t2,BIO_tags_as_initial_count,count_of_each_BIO_tags = create_transition_matrix(X_train)\n",
        "    calculate_start_probability(BIO_tags_as_initial_count,count_of_each_BIO_tags)\n",
        "\n",
        "    transition_probability_t1 = copy.deepcopy(count_of_each_BIO_tags)\n",
        "    N = sum(count_of_each_BIO_tags)\n",
        "    for i in range(0,3):\n",
        "        transition_probability_t1[i] = transition_probability_t1[i]/N\n",
        "\n",
        "    return transition_probability_t1,count_of_each_BIO_tags,BIO_tags_as_initial_count"
      ],
      "metadata": {
        "id": "E8vvbCCrYMo8"
      },
      "execution_count": 152,
      "outputs": []
    },
    {
      "cell_type": "markdown",
      "source": [
        "#Calculating transition probability for bigram model"
      ],
      "metadata": {
        "id": "K1THJZRxo-zq"
      }
    },
    {
      "cell_type": "code",
      "source": [
        "def calculate_transition_probability_bigram(X_train):\n",
        "    transition_count_t1_t2,BIO_tags_as_initial_count,count_of_each_BIO_tags = create_transition_matrix(X_train)\n",
        "    calculate_start_probability(BIO_tags_as_initial_count,count_of_each_BIO_tags)\n",
        "    \n",
        "    transition_probability_t1_t2 = copy.deepcopy(transition_count_t1_t2)\n",
        "\n",
        "    for i in range(0,3):\n",
        "        for j in range(0,3):\n",
        "            transition_probability_t1_t2[i][j] = (transition_probability_t1_t2[i][j])/(count_of_each_BIO_tags[i] + 1)\n",
        "\n",
        "    return transition_probability_t1_t2,count_of_each_BIO_tags,BIO_tags_as_initial_count"
      ],
      "metadata": {
        "id": "lh-BOg5XRdfI"
      },
      "execution_count": 153,
      "outputs": []
    },
    {
      "cell_type": "markdown",
      "source": [
        "#Extracting distinct words from the dataset"
      ],
      "metadata": {
        "id": "TSFE6Bdsos8z"
      }
    },
    {
      "cell_type": "code",
      "source": [
        "def extracting_distinct_words(X_train):\n",
        "    distinct_words = set()\n",
        "    i = 0\n",
        "    for i in X_train:\n",
        "        line = list(i.split(\" \"))\n",
        "        length  = int(len(line))\n",
        "        for j in range(0,length,2):\n",
        "            distinct_words.add(line[j])\n",
        "\n",
        "    words = {}\n",
        "    j = 0\n",
        "    for i in distinct_words:\n",
        "        words[i] = j\n",
        "        j = j + 1\n",
        "    return words"
      ],
      "metadata": {
        "id": "4Y5rmSZzXkF7"
      },
      "execution_count": 154,
      "outputs": []
    },
    {
      "cell_type": "markdown",
      "source": [
        "#Calculating emission count"
      ],
      "metadata": {
        "id": "sRs36xR9opBW"
      }
    },
    {
      "cell_type": "code",
      "source": [
        "def calculate_emission_count(X_train):\n",
        "    words = extracting_distinct_words(X_train)\n",
        "    BIO_tags = {'B':0,'I':1,'O':2}\n",
        "\n",
        "    count_of_distinct_words = len(words) \n",
        "    #declaring emission count matrix\n",
        "    emission_count = []\n",
        "    for i in range(0,count_of_distinct_words):\n",
        "        t = []\n",
        "        for j in range(0,3):\n",
        "            t.append(float(0))\n",
        "        emission_count.append(t)\n",
        "\n",
        "    for i in range(0,len(X_train)):\n",
        "        linex = X_train[i].split(\" \")\n",
        "        length = len(linex)\n",
        "\n",
        "        for j in range(0,length,2):\n",
        "            emission_count[words[linex[j]]][BIO_tags[linex[j+1]]] += 1\n",
        "    return emission_count,count_of_distinct_words,words"
      ],
      "metadata": {
        "id": "x9rVCw31XdH3"
      },
      "execution_count": 155,
      "outputs": []
    },
    {
      "cell_type": "markdown",
      "source": [
        "#Calculating emission probability"
      ],
      "metadata": {
        "id": "hCok43izpHxQ"
      }
    },
    {
      "cell_type": "code",
      "source": [
        "def calculate_emission_probability(X_train,count_of_each_BIO_tags):\n",
        "    emission_count,count_of_distinct_words,words = calculate_emission_count(X_train)\n",
        "    emission_probability = copy.deepcopy(emission_count)\n",
        "\n",
        "    for i in range(0,count_of_distinct_words):\n",
        "        for j in range(0,3):\n",
        "            emission_probability[i][j] = (emission_probability[i][j])/(count_of_each_BIO_tags[j])\n",
        "\n",
        "    return emission_probability,words"
      ],
      "metadata": {
        "id": "7JyNr5WIpHbQ"
      },
      "execution_count": 156,
      "outputs": []
    },
    {
      "cell_type": "markdown",
      "source": [
        "#Finding most frequent BIO tag"
      ],
      "metadata": {
        "id": "PtfSTks3r9vY"
      }
    },
    {
      "cell_type": "code",
      "source": [
        "def most_frequent_BIO_tags(count_of_each_BIO_tags):\n",
        "    BIO_tags = {'B':0,'I':1,'O':2}\n",
        "    for i in range(0,3):\n",
        "        if(count_of_each_BIO_tags[i]==max(count_of_each_BIO_tags)):\n",
        "            most_frequent_tag_index = i\n",
        "            break\n",
        "\n",
        "    for i in BIO_tags:\n",
        "        if(BIO_tags[i]==most_frequent_tag_index):\n",
        "            most_frequent_tag = i\n",
        "    return most_frequent_tag"
      ],
      "metadata": {
        "id": "jcWzqOMgqc2i"
      },
      "execution_count": 171,
      "outputs": []
    },
    {
      "cell_type": "markdown",
      "source": [
        "#Viterbi Algorithm(Bigram)"
      ],
      "metadata": {
        "id": "_O9ZQB_r4Kjl"
      }
    },
    {
      "cell_type": "code",
      "source": [
        "def viterbiAlgorithm_Bigram(transition_probability,emission_probability,start_probability,count_of_each_pos_tags,pos_tags,words,most_frequent_tag,testX):\n",
        "    count_of_distinct_pos_tags = len(pos_tags)\n",
        "    BIO_tags = {'B':0,'I':1,'O':2}\n",
        "    \n",
        "    #declaring matrix to calculate probability at each k\n",
        "    prob_and_seq = []\n",
        "    cursen = testX.split(\" \")\n",
        "    curlen = len(cursen)\n",
        "    cursenlen = int(curlen/2)\n",
        "    predicted_seq_of_pos_tags = []\n",
        "\n",
        "    for i in range(0,count_of_distinct_pos_tags):\n",
        "        t = []\n",
        "        for j in range(0,cursenlen):\n",
        "            t.append([0,\"O\"])\n",
        "        prob_and_seq.append(t)\n",
        "    #end of matrix creation\n",
        "\n",
        "    for j in pos_tags.keys():\n",
        "        if cursen[0] in words.keys():\n",
        "            prob_and_seq[pos_tags[j]][0][0] = start_probability[pos_tags[j]] * emission_probability[words[cursen[0]]][pos_tags[j]]\n",
        "            prob_and_seq[pos_tags[j]][0][1] = pos_tags[j]\n",
        "            \n",
        "        else:\n",
        "            prob_and_seq[pos_tags[j]][0][0] = start_probability[pos_tags[j]]\n",
        "            prob_and_seq[pos_tags[j]][0][1] = pos_tags[j]\n",
        "            \n",
        "\n",
        "\n",
        "    for i in range(1,cursenlen):\n",
        "        if cursen[i*2] in words.keys():\n",
        "            for j in pos_tags.keys(): #every prev state\n",
        "                prev_prob = prob_and_seq[pos_tags[j]][i-1][0]\n",
        "                \n",
        "                for k in pos_tags.keys():#every cur state\n",
        "                    max_prob = prob_and_seq[pos_tags[k]][i][0]\n",
        "                    max_postag = prob_and_seq[pos_tags[k]][i][1]\n",
        "\n",
        "                    p1 = transition_probability[pos_tags[j]][pos_tags[k]]\n",
        "                    p2 = emission_probability[words[cursen[i*2]]][pos_tags[k]]\n",
        "\n",
        "                    cur_prob = prev_prob + math.log(p1 + 1) + math.log(p2 + 1)\n",
        "\n",
        "                    if max_prob<=cur_prob:\n",
        "                            max_prob = cur_prob\n",
        "                            prob_and_seq[pos_tags[k]][i][0] = max_prob\n",
        "                            prob_and_seq[pos_tags[k]][i][1] = j\n",
        "                    \n",
        "        else:\n",
        "            for j in pos_tags.keys(): #every prev state\n",
        "                prev_prob = prob_and_seq[pos_tags[j]][i-1][0]\n",
        "\n",
        "                for k in pos_tags.keys():#every cur state\n",
        "                    if (k==most_frequent_tag):\n",
        "                        max_prob = prob_and_seq[pos_tags[k]][i][0]\n",
        "                        max_postag = prob_and_seq[pos_tags[k]][i][1]\n",
        "\n",
        "                        p1 = transition_probability[pos_tags[j]][pos_tags[k]]\n",
        "\n",
        "                        cur_prob = prev_prob + math.log(p1 + 1)\n",
        "\n",
        "                        if max_prob<=cur_prob:\n",
        "                                max_prob = cur_prob\n",
        "                                prob_and_seq[pos_tags[k]][i][0] = max_prob\n",
        "                                prob_and_seq[pos_tags[k]][i][1] = j\n",
        "                    else:\n",
        "                        prob_and_seq[pos_tags[k]][i][0] = float(0)\n",
        "                        prob_and_seq[pos_tags[k]][i][1] = \"O\"\n",
        "\n",
        "            #print(prob_and_seq[pos_tags[k]][i][1])\n",
        "            \n",
        "    maxiprob = prob_and_seq[0][cursenlen-1][0]\n",
        "    prevpostag = prob_and_seq[0][cursenlen-1][1] \n",
        "\n",
        "    for i in pos_tags.keys():\n",
        "        if prob_and_seq[pos_tags[i]][cursenlen-1][0]>=maxiprob:\n",
        "            maxiprob = prob_and_seq[pos_tags[i]][cursenlen-1][0]\n",
        "            prevpostag = prob_and_seq[pos_tags[i]][cursenlen-1][1]\n",
        "            maxipostag = i\n",
        "            \n",
        "\n",
        "    predicted_seq_of_pos_tags.append(maxipostag)\n",
        "\n",
        "    for i in range(cursenlen-2,-1,-1):\n",
        "        predicted_seq_of_pos_tags.append(prevpostag)\n",
        "        prevpostag = prob_and_seq[pos_tags[prevpostag]][i][1]\n",
        "        \n",
        "\n",
        "    predicted_seq_of_pos_tags.reverse()\n",
        "\n",
        "    #print(predicted_seq_of_pos_tags)\n",
        "    return predicted_seq_of_pos_tags"
      ],
      "metadata": {
        "id": "63mSAXFlPBJe"
      },
      "execution_count": 180,
      "outputs": []
    },
    {
      "cell_type": "markdown",
      "source": [
        "#Viterbi Algorithm(Unigram)"
      ],
      "metadata": {
        "id": "hE5lKMY2oKz_"
      }
    },
    {
      "cell_type": "code",
      "source": [
        "def viterbiAlgorithm_Unigram(transition_probability,emission_probability,start_probability,count_of_each_pos_tags,pos_tags,words,most_frequent_tag,testX):\n",
        "    count_of_distinct_pos_tags = len(pos_tags)\n",
        "    \n",
        "\n",
        "    #declaring matrix to calculate probability at each k\n",
        "    prob_and_seq = []\n",
        "    cursen = testX.split(\" \")\n",
        "    curlen = len(cursen)\n",
        "    cursenlen = int(curlen/2)\n",
        "    predicted_seq_of_pos_tags = []\n",
        "\n",
        "    for i in range(0,count_of_distinct_pos_tags):\n",
        "        t = []\n",
        "        for j in range(0,cursenlen):\n",
        "            t.append(0)\n",
        "        prob_and_seq.append(t)\n",
        "    #end of matrix creation\n",
        "\n",
        "    for j in pos_tags.keys():\n",
        "        if cursen[0] in words.keys():\n",
        "            prob_and_seq[pos_tags[j]][0] = start_probability[pos_tags[j]] * emission_probability[words[cursen[0]]][pos_tags[j]]\n",
        "            \n",
        "        else:\n",
        "            prob_and_seq[pos_tags[j]][0] = start_probability[pos_tags[j]]\n",
        "            \n",
        "\n",
        "\n",
        "    for i in range(1,cursenlen):\n",
        "        if cursen[i*2] in words.keys():\n",
        "            for k in pos_tags.keys():#every cur state\n",
        "                max_prob = prob_and_seq[pos_tags[k]][i]\n",
        "                max_postag = prob_and_seq[pos_tags[k]][i]\n",
        "\n",
        "                p1 = transition_probability[pos_tags[k]]\n",
        "                p2 = emission_probability[words[cursen[i*2]]][pos_tags[k]]\n",
        "\n",
        "                cur_prob = math.log(p1 + 1) + math.log(p2 + 1)\n",
        "\n",
        "                if max_prob<=cur_prob:\n",
        "                        max_prob = cur_prob\n",
        "                        prob_and_seq[pos_tags[k]][i] = max_prob\n",
        "                            \n",
        "                    \n",
        "        else:\n",
        "            for k in pos_tags.keys():#every cur state\n",
        "                if (k==most_frequent_tag):\n",
        "                    max_prob = prob_and_seq[pos_tags[k]][i]\n",
        "\n",
        "                    p1 = transition_probability[pos_tags[k]]\n",
        "\n",
        "                    cur_prob = math.log(p1 + 1)\n",
        "\n",
        "                    if max_prob<=cur_prob:\n",
        "                            max_prob = cur_prob\n",
        "                            prob_and_seq[pos_tags[k]][i] = max_prob\n",
        "                            \n",
        "                else:\n",
        "                    prob_and_seq[pos_tags[k]][i] = float(0)\n",
        "                       \n",
        "\n",
        "            #print(prob_and_seq[pos_tags[k]][i][1])\n",
        "            \n",
        "    \n",
        "\n",
        "    for j in range(cursenlen-1,-1,-1):\n",
        "        maxiprob = 0\n",
        "\n",
        "        for i in pos_tags.keys():\n",
        "            if prob_and_seq[pos_tags[i]][j]>=maxiprob:\n",
        "                maxiprob = prob_and_seq[pos_tags[i]][j]\n",
        "                maxipostag = i\n",
        "        predicted_seq_of_pos_tags.append(maxipostag)\n",
        "        \n",
        "\n",
        "    predicted_seq_of_pos_tags.reverse()\n",
        "\n",
        "    #print(predicted_seq_of_pos_tags)\n",
        "    return predicted_seq_of_pos_tags"
      ],
      "metadata": {
        "id": "usD-3ah0oSxw"
      },
      "execution_count": 159,
      "outputs": []
    },
    {
      "cell_type": "markdown",
      "source": [
        "#Running Viterbi(Bigram Model) algo to predict the BIO tags associated with each word of a sentence"
      ],
      "metadata": {
        "id": "OeO1_7T8ANJd"
      }
    },
    {
      "cell_type": "code",
      "source": [
        "def test_bigram(X_test,transition_probability_t1_t2,emission_probability,start_probability,count_of_each_BIO_tags,BIO_tags,words,most_frequent_tag):\n",
        "    predicted_y_bigram = []\n",
        "    for i in X_test:\n",
        "        predicted_y_bigram.append(viterbiAlgorithm_Bigram(transition_probability_t1_t2,emission_probability,start_probability,count_of_each_BIO_tags,BIO_tags,words,most_frequent_tag,i))\n",
        "    return predicted_y_bigram"
      ],
      "metadata": {
        "id": "Yzd_KTCQu3e-"
      },
      "execution_count": 160,
      "outputs": []
    },
    {
      "cell_type": "markdown",
      "source": [
        "#Running Viterbi(Unigram Model) algo to predict the BIO tags associated with each word of a sentence"
      ],
      "metadata": {
        "id": "NsF77cbtpRBW"
      }
    },
    {
      "cell_type": "code",
      "source": [
        "def test_unigram(X_test,transition_probability_t1,emission_probability,start_probability,count_of_each_BIO_tags,BIO_tags,words,most_frequent_tag):\n",
        "    predicted_y_unigram = []\n",
        "    for i in X_test:\n",
        "        predicted_y_unigram.append(viterbiAlgorithm_Unigram(transition_probability_t1,emission_probability,start_probability,count_of_each_BIO_tags,BIO_tags,words,most_frequent_tag,i))\n",
        "    return predicted_y_unigram"
      ],
      "metadata": {
        "id": "bZSfDqegpRZJ"
      },
      "execution_count": 161,
      "outputs": []
    },
    {
      "cell_type": "markdown",
      "source": [
        "#Calculating Accuracy"
      ],
      "metadata": {
        "id": "m3kxLl161elw"
      }
    },
    {
      "cell_type": "code",
      "source": [
        "def calculate_accuracy(predicted_y):\n",
        "    k = 0\n",
        "    accuracy = []\n",
        "    for i in X_test:\n",
        "        count = 0\n",
        "        actualtags_y = i.split(\" \")\n",
        "        curlen = int(len(actualtags_y)/2)\n",
        "        for j in range(0,curlen):\n",
        "            if predicted_y[k][j]==actualtags_y[j*2 + 1]:\n",
        "                count +=1\n",
        "        k +=1\n",
        "        accuracy.append(count/curlen)\n",
        "    avg_accuracy = sum(accuracy)/len(accuracy)\n",
        "    return avg_accuracy"
      ],
      "metadata": {
        "id": "Z9JJkxLes8_1"
      },
      "execution_count": 166,
      "outputs": []
    },
    {
      "cell_type": "markdown",
      "source": [
        "#Splitting dataset into 80:20 ratio"
      ],
      "metadata": {
        "id": "9DloHwc9x3SV"
      }
    },
    {
      "cell_type": "code",
      "source": [
        "start = int(len(df)*0.8)\n",
        "X_train = df.iloc[:start,0]\n",
        "X_test = df.iloc[start:,0]\n",
        "\n",
        "#calculating parameters for unigram\n",
        "transition_probability_t1,count_of_each_BIO_tags,BIO_tags_as_initial_count = calculate_transition_probability_unigram(X_train)\n",
        "start_probability = calculate_start_probability(BIO_tags_as_initial_count,count_of_each_BIO_tags)\n",
        "emission_probability,words = calculate_emission_probability(X_train,count_of_each_BIO_tags)\n",
        "most_frequent_tag = most_frequent_BIO_tags(count_of_each_BIO_tags)\n",
        "\n",
        "#running Unigram HMM Model\n",
        "predicted_y_uni = test_unigram(X_test,transition_probability_t1,emission_probability,start_probability,count_of_each_BIO_tags,BIO_tags,words,most_frequent_tag)\n",
        "accuracy = calculate_accuracy(predicted_y_uni)\n",
        "print(\"Accuracy of unigram model = \",round(accuracy*100,2),'%',sep=\"\")\n",
        "\n",
        "#calculating parameters for bigram\n",
        "transition_probability_t1_t2,count_of_each_BIO_tags,BIO_tags_as_initial_count = calculate_transition_probability_bigram(X_train)\n",
        "start_probability = calculate_start_probability(BIO_tags_as_initial_count,count_of_each_BIO_tags)\n",
        "emission_probability,words = calculate_emission_probability(X_train,count_of_each_BIO_tags)\n",
        "most_frequent_tag = most_frequent_BIO_tags(count_of_each_BIO_tags)\n",
        "\n",
        "#running bigram HMM Model\n",
        "predicted_y_bi = test_bigram(X_test,transition_probability_t1_t2,emission_probability,start_probability,count_of_each_BIO_tags,BIO_tags,words,most_frequent_tag)\n",
        "accuracy = calculate_accuracy(predicted_y_bi)\n",
        "print(\"Accuracy of bigram model at Fold = \",round(accuracy*100,2),'%',sep=\"\")"
      ],
      "metadata": {
        "colab": {
          "base_uri": "https://localhost:8080/"
        },
        "id": "ZHZaFs8Xx25A",
        "outputId": "215b7e1e-0a55-4827-afcd-a62e37c5c14c"
      },
      "execution_count": 186,
      "outputs": [
        {
          "output_type": "stream",
          "name": "stdout",
          "text": [
            "Accuracy of unigram model = 91.63%\n",
            "Accuracy of bigram model at Fold = 93.74%\n"
          ]
        }
      ]
    },
    {
      "cell_type": "markdown",
      "source": [
        "#5-fold cross Validation"
      ],
      "metadata": {
        "id": "ZLsy_Jz1gyVb"
      }
    },
    {
      "cell_type": "code",
      "source": [
        "total_count = len(df)\n",
        "fold = 5 \n",
        "split_ratio = round(1/fold)\n",
        "avg_accuracy_uni = 0\n",
        "avg_accuracy_bi = 0\n",
        "BIO_tags = {'B':0,'I':1,'O':2}\n",
        "\n",
        "for i in range(fold):\n",
        "    start = round(total_count/fold)*(i)\n",
        "    end = round(total_count/fold)*(i+1)\n",
        "\n",
        "    X_train = df.iloc[np.r_[0:start,end:],-1].values\n",
        "    X_test = df.iloc[start:end,-1].values\n",
        "\n",
        "    #calculating parameters for unigram\n",
        "    transition_probability_t1,count_of_each_BIO_tags,BIO_tags_as_initial_count = calculate_transition_probability_unigram(X_train)\n",
        "    start_probability = calculate_start_probability(BIO_tags_as_initial_count,count_of_each_BIO_tags)\n",
        "    emission_probability,words = calculate_emission_probability(X_train,count_of_each_BIO_tags)\n",
        "    most_frequent_tag = most_frequent_BIO_tags(count_of_each_BIO_tags)\n",
        "\n",
        "    #running Unigram HMM Model\n",
        "    predicted_y_uni = test_unigram(X_test,transition_probability_t1,emission_probability,start_probability,count_of_each_BIO_tags,BIO_tags,words,most_frequent_tag)\n",
        "    accuracy = calculate_accuracy(predicted_y_uni)\n",
        "    print(\"Accuracy of unigram model at Fold \",i,\" = \",accuracy)\n",
        "    avg_accuracy_uni += accuracy\n",
        "\n",
        "    #calculating parameters for bigram\n",
        "    transition_probability_t1_t2,count_of_each_BIO_tags,BIO_tags_as_initial_count = calculate_transition_probability_bigram(X_train)\n",
        "    start_probability = calculate_start_probability(BIO_tags_as_initial_count,count_of_each_BIO_tags)\n",
        "    emission_probability,words = calculate_emission_probability(X_train,count_of_each_BIO_tags)\n",
        "    most_frequent_tag = most_frequent_BIO_tags(count_of_each_BIO_tags)\n",
        "\n",
        "    #running bigram HMM Model\n",
        "    predicted_y_bi = test_bigram(X_test,transition_probability_t1_t2,emission_probability,start_probability,count_of_each_BIO_tags,BIO_tags,words,most_frequent_tag)\n",
        "    accuracy = calculate_accuracy(predicted_y_bi)\n",
        "    print(\"Accuracy of bigram model at Fold \",i,\" = \",accuracy)\n",
        "    avg_accuracy_bi += accuracy\n",
        "\n",
        "avg_accuracy_uni *= (1/fold)\n",
        "print(\"Average_accuracy of Unigram Model = \",round(avg_accuracy_uni*100,2),'%',sep=\"\")\n",
        "\n",
        "avg_accuracy_bi *= (1/fold)\n",
        "print(\"Average_accuracy of Bigram Model = \",round(avg_accuracy_bi*100,2),'%',sep=\"\")"
      ],
      "metadata": {
        "colab": {
          "base_uri": "https://localhost:8080/"
        },
        "id": "KowCc5OKgxOa",
        "outputId": "c7f4357c-92b1-4a38-982f-ac0e86701615"
      },
      "execution_count": 183,
      "outputs": [
        {
          "output_type": "stream",
          "name": "stdout",
          "text": [
            "Accuracy of unigram model at Fold  0  =  0.939956854591589\n",
            "Accuracy of bigram model at Fold  0  =  0.9383650330871498\n",
            "Accuracy of unigram model at Fold  1  =  0.9365347469056349\n",
            "Accuracy of bigram model at Fold  1  =  0.933035009001059\n",
            "Accuracy of unigram model at Fold  2  =  0.9366416151952979\n",
            "Accuracy of bigram model at Fold  2  =  0.934558522362205\n",
            "Accuracy of unigram model at Fold  3  =  0.9540298719401834\n",
            "Accuracy of bigram model at Fold  3  =  0.9541137519201351\n",
            "Accuracy of unigram model at Fold  4  =  0.9467918090342533\n",
            "Accuracy of bigram model at Fold  4  =  0.9429472851919156\n",
            "Average_accuracy of Unigram Model = 94.28%\n",
            "Average_accuracy of Bigram Model = 94.06%\n"
          ]
        }
      ]
    }
  ]
}